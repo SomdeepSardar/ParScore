{
 "cells": [
  {
   "cell_type": "code",
   "execution_count": 6,
   "metadata": {},
   "outputs": [
    {
     "name": "stderr",
     "output_type": "stream",
     "text": [
      "Matplotlib is building the font cache; this may take a moment.\n"
     ]
    }
   ],
   "source": [
    "import pandas as pd\n",
    "import numpy as np\n",
    "import seaborn as sns\n",
    "import matplotlib.pyplot as plt"
   ]
  },
  {
   "cell_type": "markdown",
   "metadata": {},
   "source": [
    "## Import the dataset"
   ]
  },
  {
   "cell_type": "code",
   "execution_count": 5,
   "metadata": {},
   "outputs": [],
   "source": [
    "df = pd.read_csv('data/Cricket_Data_Limited.csv')"
   ]
  },
  {
   "cell_type": "markdown",
   "metadata": {},
   "source": [
    "## Basic query on the dataset"
   ]
  },
  {
   "cell_type": "markdown",
   "metadata": {},
   "source": [
    "- Shape of the dataset"
   ]
  },
  {
   "cell_type": "code",
   "execution_count": 7,
   "metadata": {},
   "outputs": [
    {
     "data": {
      "text/plain": [
       "(2240, 14)"
      ]
     },
     "execution_count": 7,
     "metadata": {},
     "output_type": "execute_result"
    }
   ],
   "source": [
    "df.shape"
   ]
  },
  {
   "cell_type": "markdown",
   "metadata": {},
   "source": [
    "- Info about the dataset"
   ]
  },
  {
   "cell_type": "code",
   "execution_count": 8,
   "metadata": {},
   "outputs": [
    {
     "name": "stdout",
     "output_type": "stream",
     "text": [
      "<class 'pandas.core.frame.DataFrame'>\n",
      "RangeIndex: 2240 entries, 0 to 2239\n",
      "Data columns (total 14 columns):\n",
      " #   Column      Non-Null Count  Dtype  \n",
      "---  ------      --------------  -----  \n",
      " 0   home        2240 non-null   object \n",
      " 1   away        2240 non-null   object \n",
      " 2   1st inn     2240 non-null   object \n",
      " 3   wckts       2240 non-null   int64  \n",
      " 4   winner      2240 non-null   object \n",
      " 5   season      2240 non-null   int64  \n",
      " 6   res         2240 non-null   object \n",
      " 7   won by      2240 non-null   object \n",
      " 8   venue name  2240 non-null   object \n",
      " 9   Straight    2240 non-null   int64  \n",
      " 10  Square      2240 non-null   int64  \n",
      " 11  Area        2240 non-null   float64\n",
      " 12  Pitch       2240 non-null   object \n",
      " 13  runs        2240 non-null   int64  \n",
      "dtypes: float64(1), int64(5), object(8)\n",
      "memory usage: 245.1+ KB\n"
     ]
    }
   ],
   "source": [
    "df.info()"
   ]
  },
  {
   "cell_type": "markdown",
   "metadata": {},
   "source": [
    "- Check for any null values"
   ]
  },
  {
   "cell_type": "code",
   "execution_count": 10,
   "metadata": {},
   "outputs": [
    {
     "data": {
      "text/plain": [
       "home          0\n",
       "away          0\n",
       "1st inn       0\n",
       "wckts         0\n",
       "winner        0\n",
       "season        0\n",
       "res           0\n",
       "won by        0\n",
       "venue name    0\n",
       "Straight      0\n",
       "Square        0\n",
       "Area          0\n",
       "Pitch         0\n",
       "runs          0\n",
       "dtype: int64"
      ]
     },
     "execution_count": 10,
     "metadata": {},
     "output_type": "execute_result"
    }
   ],
   "source": [
    "df.isnull().sum()"
   ]
  },
  {
   "cell_type": "markdown",
   "metadata": {},
   "source": [
    "## Conclusion\n",
    "- The dataset has few no null values."
   ]
  },
  {
   "cell_type": "markdown",
   "metadata": {},
   "source": [
    "## Describe the dataset"
   ]
  },
  {
   "cell_type": "code",
   "execution_count": 12,
   "metadata": {},
   "outputs": [
    {
     "data": {
      "text/html": [
       "<div>\n",
       "<style scoped>\n",
       "    .dataframe tbody tr th:only-of-type {\n",
       "        vertical-align: middle;\n",
       "    }\n",
       "\n",
       "    .dataframe tbody tr th {\n",
       "        vertical-align: top;\n",
       "    }\n",
       "\n",
       "    .dataframe thead th {\n",
       "        text-align: right;\n",
       "    }\n",
       "</style>\n",
       "<table border=\"1\" class=\"dataframe\">\n",
       "  <thead>\n",
       "    <tr style=\"text-align: right;\">\n",
       "      <th></th>\n",
       "      <th>count</th>\n",
       "      <th>mean</th>\n",
       "      <th>std</th>\n",
       "      <th>min</th>\n",
       "      <th>25%</th>\n",
       "      <th>50%</th>\n",
       "      <th>75%</th>\n",
       "      <th>max</th>\n",
       "    </tr>\n",
       "  </thead>\n",
       "  <tbody>\n",
       "    <tr>\n",
       "      <th>wckts</th>\n",
       "      <td>2240.0</td>\n",
       "      <td>5.528571</td>\n",
       "      <td>2.019796</td>\n",
       "      <td>0.00000</td>\n",
       "      <td>4.00000</td>\n",
       "      <td>6.0000</td>\n",
       "      <td>7.00000</td>\n",
       "      <td>10.00000</td>\n",
       "    </tr>\n",
       "    <tr>\n",
       "      <th>season</th>\n",
       "      <td>2240.0</td>\n",
       "      <td>2021.757143</td>\n",
       "      <td>1.061715</td>\n",
       "      <td>2020.00000</td>\n",
       "      <td>2021.00000</td>\n",
       "      <td>2022.0000</td>\n",
       "      <td>2023.00000</td>\n",
       "      <td>2023.00000</td>\n",
       "    </tr>\n",
       "    <tr>\n",
       "      <th>Straight</th>\n",
       "      <td>2240.0</td>\n",
       "      <td>71.885714</td>\n",
       "      <td>4.750625</td>\n",
       "      <td>65.00000</td>\n",
       "      <td>65.00000</td>\n",
       "      <td>72.0000</td>\n",
       "      <td>75.00000</td>\n",
       "      <td>78.00000</td>\n",
       "    </tr>\n",
       "    <tr>\n",
       "      <th>Square</th>\n",
       "      <td>2240.0</td>\n",
       "      <td>73.128571</td>\n",
       "      <td>6.010671</td>\n",
       "      <td>65.00000</td>\n",
       "      <td>68.00000</td>\n",
       "      <td>71.0000</td>\n",
       "      <td>80.00000</td>\n",
       "      <td>80.00000</td>\n",
       "    </tr>\n",
       "    <tr>\n",
       "      <th>Area</th>\n",
       "      <td>2240.0</td>\n",
       "      <td>16482.006817</td>\n",
       "      <td>1442.372402</td>\n",
       "      <td>15111.06066</td>\n",
       "      <td>15381.23763</td>\n",
       "      <td>16336.2818</td>\n",
       "      <td>16663.00743</td>\n",
       "      <td>19603.53816</td>\n",
       "    </tr>\n",
       "    <tr>\n",
       "      <th>runs</th>\n",
       "      <td>2240.0</td>\n",
       "      <td>184.771429</td>\n",
       "      <td>25.863169</td>\n",
       "      <td>126.00000</td>\n",
       "      <td>167.00000</td>\n",
       "      <td>188.5000</td>\n",
       "      <td>202.00000</td>\n",
       "      <td>257.00000</td>\n",
       "    </tr>\n",
       "  </tbody>\n",
       "</table>\n",
       "</div>"
      ],
      "text/plain": [
       "           count          mean          std          min          25%  \\\n",
       "wckts     2240.0      5.528571     2.019796      0.00000      4.00000   \n",
       "season    2240.0   2021.757143     1.061715   2020.00000   2021.00000   \n",
       "Straight  2240.0     71.885714     4.750625     65.00000     65.00000   \n",
       "Square    2240.0     73.128571     6.010671     65.00000     68.00000   \n",
       "Area      2240.0  16482.006817  1442.372402  15111.06066  15381.23763   \n",
       "runs      2240.0    184.771429    25.863169    126.00000    167.00000   \n",
       "\n",
       "                 50%          75%          max  \n",
       "wckts         6.0000      7.00000     10.00000  \n",
       "season     2022.0000   2023.00000   2023.00000  \n",
       "Straight     72.0000     75.00000     78.00000  \n",
       "Square       71.0000     80.00000     80.00000  \n",
       "Area      16336.2818  16663.00743  19603.53816  \n",
       "runs        188.5000    202.00000    257.00000  "
      ]
     },
     "execution_count": 12,
     "metadata": {},
     "output_type": "execute_result"
    }
   ],
   "source": [
    "df.describe().T"
   ]
  },
  {
   "cell_type": "markdown",
   "metadata": {},
   "source": [
    "## Running some analysis"
   ]
  },
  {
   "cell_type": "code",
   "execution_count": 21,
   "metadata": {},
   "outputs": [],
   "source": [
    "categorical_columns = df.select_dtypes(include = 'object').columns\n",
    "numerical_columns = df.select_dtypes(exclude= 'object').columns"
   ]
  },
  {
   "cell_type": "code",
   "execution_count": 22,
   "metadata": {},
   "outputs": [
    {
     "name": "stdout",
     "output_type": "stream",
     "text": [
      "Categorical Columns: Index(['home', 'away', '1st inn', 'winner', 'res', 'won by', 'venue name',\n",
      "       'Pitch'],\n",
      "      dtype='object')\n",
      "Numerical Columns: Index(['wckts', 'season', 'Straight', 'Square', 'Area', 'runs'], dtype='object')\n"
     ]
    }
   ],
   "source": [
    "print(f\"Categorical Columns: {categorical_columns}\")\n",
    "print(f\"Numerical Columns: {numerical_columns}\")"
   ]
  },
  {
   "cell_type": "markdown",
   "metadata": {},
   "source": [
    "- Dropping irrelevant columns"
   ]
  },
  {
   "cell_type": "code",
   "execution_count": 23,
   "metadata": {},
   "outputs": [
    {
     "data": {
      "text/html": [
       "<div>\n",
       "<style scoped>\n",
       "    .dataframe tbody tr th:only-of-type {\n",
       "        vertical-align: middle;\n",
       "    }\n",
       "\n",
       "    .dataframe tbody tr th {\n",
       "        vertical-align: top;\n",
       "    }\n",
       "\n",
       "    .dataframe thead th {\n",
       "        text-align: right;\n",
       "    }\n",
       "</style>\n",
       "<table border=\"1\" class=\"dataframe\">\n",
       "  <thead>\n",
       "    <tr style=\"text-align: right;\">\n",
       "      <th></th>\n",
       "      <th>wckts</th>\n",
       "      <th>Area</th>\n",
       "      <th>Pitch</th>\n",
       "      <th>runs</th>\n",
       "    </tr>\n",
       "  </thead>\n",
       "  <tbody>\n",
       "    <tr>\n",
       "      <th>0</th>\n",
       "      <td>8</td>\n",
       "      <td>19603.53816</td>\n",
       "      <td>bat</td>\n",
       "      <td>193</td>\n",
       "    </tr>\n",
       "    <tr>\n",
       "      <th>1</th>\n",
       "      <td>7</td>\n",
       "      <td>19603.53816</td>\n",
       "      <td>bowl</td>\n",
       "      <td>169</td>\n",
       "    </tr>\n",
       "    <tr>\n",
       "      <th>2</th>\n",
       "      <td>4</td>\n",
       "      <td>19603.53816</td>\n",
       "      <td>bat</td>\n",
       "      <td>216</td>\n",
       "    </tr>\n",
       "    <tr>\n",
       "      <th>3</th>\n",
       "      <td>4</td>\n",
       "      <td>19603.53816</td>\n",
       "      <td>bat</td>\n",
       "      <td>192</td>\n",
       "    </tr>\n",
       "    <tr>\n",
       "      <th>4</th>\n",
       "      <td>6</td>\n",
       "      <td>19603.53816</td>\n",
       "      <td>bat</td>\n",
       "      <td>181</td>\n",
       "    </tr>\n",
       "  </tbody>\n",
       "</table>\n",
       "</div>"
      ],
      "text/plain": [
       "   wckts         Area Pitch  runs\n",
       "0      8  19603.53816   bat   193\n",
       "1      7  19603.53816  bowl   169\n",
       "2      4  19603.53816   bat   216\n",
       "3      4  19603.53816   bat   192\n",
       "4      6  19603.53816   bat   181"
      ]
     },
     "execution_count": 23,
     "metadata": {},
     "output_type": "execute_result"
    }
   ],
   "source": [
    "r = ['home', 'away', '1st inn', 'winner', 'season', 'res', 'won by', 'venue name', 'Straight', 'Square']\n",
    "df.drop(labels = r, axis = 1, inplace = True)\n",
    "df.head()"
   ]
  },
  {
   "cell_type": "code",
   "execution_count": 24,
   "metadata": {},
   "outputs": [],
   "source": [
    "categorical_columns = df.select_dtypes(include = 'object').columns\n",
    "numerical_columns = df.select_dtypes(exclude= 'object').columns"
   ]
  },
  {
   "cell_type": "code",
   "execution_count": 25,
   "metadata": {},
   "outputs": [
    {
     "name": "stdout",
     "output_type": "stream",
     "text": [
      "Categorical Columns: Index(['Pitch'], dtype='object')\n",
      "Numerical Columns: Index(['wckts', 'Area', 'runs'], dtype='object')\n"
     ]
    }
   ],
   "source": [
    "print(f\"Categorical Columns: {categorical_columns}\")\n",
    "print(f\"Numerical Columns: {numerical_columns}\")"
   ]
  },
  {
   "cell_type": "markdown",
   "metadata": {},
   "source": [
    "- Univariate Analysis"
   ]
  },
  {
   "cell_type": "code",
   "execution_count": 19,
   "metadata": {},
   "outputs": [
    {
     "data": {
      "image/png": "[encoded data removed]",
      "text/plain": [
       "<Figure size 500x500 with 1 Axes>"
      ]
     },
     "metadata": {},
     "output_type": "display_data"
    }
   ],
   "source": [
    "#Wickets Distribution\n",
    "sns.displot(df['wckts'],kde=False,bins=10)\n",
    "plt.title(\"Wickets Distribution\")\n",
    "\n",
    "plt.show()"
   ]
  },
  {
   "cell_type": "code",
   "execution_count": 20,
   "metadata": {},
   "outputs": [
    {
     "data": {
      "image/png": "[encoded data removed]",
      "text/plain": [
       "<Figure size 500x500 with 1 Axes>"
      ]
     },
     "metadata": {},
     "output_type": "display_data"
    }
   ],
   "source": [
    "#Runs Distribution\n",
    "sns.displot(df['runs'],kde=False,bins=10)\n",
    "plt.title(\"Runs Distribution\")\n",
    "\n",
    "plt.show()"
   ]
  },
  {
   "cell_type": "code",
   "execution_count": 26,
   "metadata": {},
   "outputs": [
    {
     "data": {
      "image/png": "[encoded data removed]",
      "text/plain": [
       "<Figure size 500x500 with 1 Axes>"
      ]
     },
     "metadata": {},
     "output_type": "display_data"
    }
   ],
   "source": [
    "#Area Distribution\n",
    "sns.displot(df['Area'],kde=False,bins=10)\n",
    "plt.title(\"Area Distribution\")\n",
    "\n",
    "plt.show()"
   ]
  }
 ],
 "metadata": {
  "kernelspec": {
   "display_name": "Python 3",
   "language": "python",
   "name": "python3"
  },
  "language_info": {
   "codemirror_mode": {
    "name": "ipython",
    "version": 3
   },
   "file_extension": ".py",
   "mimetype": "text/x-python",
   "name": "python",
   "nbconvert_exporter": "python",
   "pygments_lexer": "ipython3",
   "version": "3.10.0"
  }
 },
 "nbformat": 4,
 "nbformat_minor": 2
}
